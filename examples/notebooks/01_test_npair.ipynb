{
 "cells": [
  {
   "cell_type": "code",
   "execution_count": 95,
   "metadata": {},
   "outputs": [],
   "source": [
    "config = {\n",
    "    'metric_type': 'euclidean',\n",
    "    'loss_type': 'hinge',\n",
    "    'margin': 187.0,\n",
    "#     'margin': 0.2,\n",
    "    'bidirectional': True,\n",
    "    'cache': True,\n",
    "    \n",
    "    'model': None,\n",
    "    'l2_reg': 3e-3,\n",
    "    'mult_margin': False,\n",
    "    'is_first_iter': True,\n",
    "    'init_loss_ratio': None,\n",
    "}\n",
    "\n",
    "\n",
    "from chainerdml.links.npair_loss import NpairLoss as NpairLossV1\n",
    "lossfun_v1 = NpairLossV1(**config)\n",
    "\n",
    "del config['model']\n",
    "del config['l2_reg']\n",
    "del config['mult_margin']\n",
    "del config['is_first_iter']\n",
    "del config['init_loss_ratio']\n",
    "if config['loss_type'] == 'sce':\n",
    "    config['loss_type'] = 'softmax'\n",
    "\n",
    "from chainerdml.npair_loss import NpairLoss as NpairLossV2\n",
    "lossfun_v2 = NpairLossV2(**config)"
   ]
  },
  {
   "cell_type": "code",
   "execution_count": 96,
   "metadata": {},
   "outputs": [
    {
     "data": {
      "text/plain": [
       "(16, 512)"
      ]
     },
     "execution_count": 96,
     "metadata": {},
     "output_type": "execute_result"
    }
   ],
   "source": [
    "u = np.zeros((16, 512))\n",
    "for i in range(16):\n",
    "    if config['metric_type'] in ['cosine']:\n",
    "        u[i, i] = 1\n",
    "    elif config['metric_type'] in ['dot', 'euclidean']:\n",
    "        u[i, i] = config['margin']\n",
    "u.shape\n",
    "\n",
    "if not config['bidirectional']:\n",
    "    v = np.zeros((30, 512))\n",
    "    for i in range(30):\n",
    "        if config['metric_type'] in ['cosine']:\n",
    "            v[i, i] = 1\n",
    "        elif config['metric_type'] in ['dot', 'euclidean']:\n",
    "            v[i, i] = config['margin']\n",
    "\n",
    "    labels = np.arange(u.shape[0]).astype(np.int)\n",
    "else:\n",
    "    v = u"
   ]
  },
  {
   "cell_type": "code",
   "execution_count": 97,
   "metadata": {},
   "outputs": [
    {
     "data": {
      "text/plain": [
       "variable(0.)"
      ]
     },
     "execution_count": 97,
     "metadata": {},
     "output_type": "execute_result"
    },
    {
     "data": {
      "text/plain": [
       "variable(0.)"
      ]
     },
     "execution_count": 97,
     "metadata": {},
     "output_type": "execute_result"
    },
    {
     "data": {
      "text/plain": [
       "{'anc_pos': array(0.),\n",
       " 'anc_neg': array(264.45793616),\n",
       " 'pos_neg_u': array(264.45793616),\n",
       " 'pos_neg_v': array(264.45793616)}"
      ]
     },
     "execution_count": 97,
     "metadata": {},
     "output_type": "execute_result"
    },
    {
     "data": {
      "text/plain": [
       "(array(0.), array(264.45793616), array(264.45793616), array(264.45793616))"
      ]
     },
     "execution_count": 97,
     "metadata": {},
     "output_type": "execute_result"
    },
    {
     "data": {
      "text/plain": [
       "{'norm_u': array(187.), 'norm_v': array(187.)}"
      ]
     },
     "execution_count": 97,
     "metadata": {},
     "output_type": "execute_result"
    },
    {
     "data": {
      "text/plain": [
       "(array(187.), array(187.))"
      ]
     },
     "execution_count": 97,
     "metadata": {},
     "output_type": "execute_result"
    }
   ],
   "source": [
    "if not config['bidirectional']:\n",
    "    lossfun_v1(u, v, labels=labels)\n",
    "    lossfun_v2(u, v, labels=labels)\n",
    "else:\n",
    "    lossfun_v1(u, v)\n",
    "    lossfun_v2(u, v)\n",
    "\n",
    "lossfun_v1.get_anc_pos_neg()\n",
    "lossfun_v2.anc_pos_neg\n",
    "\n",
    "lossfun_v1.get_norms()\n",
    "lossfun_v2.norms"
   ]
  },
  {
   "cell_type": "code",
   "execution_count": null,
   "metadata": {},
   "outputs": [],
   "source": []
  },
  {
   "cell_type": "code",
   "execution_count": null,
   "metadata": {},
   "outputs": [],
   "source": []
  }
 ],
 "metadata": {
  "kernelspec": {
   "display_name": "Python 3",
   "language": "python",
   "name": "python3"
  },
  "language_info": {
   "codemirror_mode": {
    "name": "ipython",
    "version": 3
   },
   "file_extension": ".py",
   "mimetype": "text/x-python",
   "name": "python",
   "nbconvert_exporter": "python",
   "pygments_lexer": "ipython3",
   "version": "3.6.5"
  }
 },
 "nbformat": 4,
 "nbformat_minor": 2
}
